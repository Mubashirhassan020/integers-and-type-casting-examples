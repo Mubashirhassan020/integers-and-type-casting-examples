{
 "cells": [
  {
   "cell_type": "code",
   "execution_count": 1,
   "id": "f03f5dd5-1f81-4ce1-a64c-f9ed52568e72",
   "metadata": {},
   "outputs": [
    {
     "name": "stdin",
     "output_type": "stream",
     "text": [
      "Enter the first integer:  10\n",
      "Enter the second integer:  12\n"
     ]
    },
    {
     "name": "stdout",
     "output_type": "stream",
     "text": [
      "Product of integers: 120\n"
     ]
    }
   ],
   "source": [
    "# integer inputs and type casting\n",
    "integer1 = int(input(\"Enter the first integer: \"))\n",
    "integer2 = int(input(\"Enter the second integer: \"))\n",
    "integer_product = integer1 * integer2\n",
    "print(\"Product of integers:\", integer_product)"
   ]
  },
  {
   "cell_type": "code",
   "execution_count": 2,
   "id": "f0cd2726-7eeb-44b3-ab20-44aa00f01396",
   "metadata": {},
   "outputs": [
    {
     "name": "stdin",
     "output_type": "stream",
     "text": [
      "Enter the numerator:  10\n",
      "Enter the denominator:  9\n"
     ]
    },
    {
     "name": "stdout",
     "output_type": "stream",
     "text": [
      "Integer division result: 1\n"
     ]
    }
   ],
   "source": [
    "# integer inputs and type casting\n",
    "integer1 = int(input(\"Enter the numerator: \"))\n",
    "integer2 = int(input(\"Enter the denominator: \"))\n",
    "integer_division = integer1 // integer2\n",
    "print(\"Integer division result:\", integer_division)"
   ]
  },
  {
   "cell_type": "code",
   "execution_count": 3,
   "id": "98714f16-b530-402f-be27-0f58b87f51c9",
   "metadata": {},
   "outputs": [
    {
     "name": "stdin",
     "output_type": "stream",
     "text": [
      "Enter a positive integer:  15\n"
     ]
    },
    {
     "name": "stdout",
     "output_type": "stream",
     "text": [
      "Square of the integer: 225\n"
     ]
    }
   ],
   "source": [
    "integer1 = int(input(\"Enter a positive integer: \"))\n",
    "integer_square = integer1 ** 2\n",
    "print(\"Square of the integer:\", integer_square)"
   ]
  },
  {
   "cell_type": "code",
   "execution_count": 4,
   "id": "eacade37-7070-4c48-b0ad-59cb244e460a",
   "metadata": {},
   "outputs": [
    {
     "name": "stdin",
     "output_type": "stream",
     "text": [
      "Enter the side length of the cube:  3\n"
     ]
    },
    {
     "name": "stdout",
     "output_type": "stream",
     "text": [
      "The volume of the cube is: 27\n"
     ]
    }
   ],
   "source": [
    "side = int(input(\"Enter the side length of the cube: \"))\n",
    "volume = side ** 3\n",
    "print(\"The volume of the cube is:\", volume)"
   ]
  },
  {
   "cell_type": "code",
   "execution_count": 10,
   "id": "38e6664d-5133-437e-bcf7-f2720b051ae8",
   "metadata": {},
   "outputs": [
    {
     "name": "stdin",
     "output_type": "stream",
     "text": [
      "Enter your name:  mubashir\n"
     ]
    },
    {
     "name": "stdout",
     "output_type": "stream",
     "text": [
      "Name: mubashir\n"
     ]
    }
   ],
   "source": [
    "name = input(\"Enter your name: \") \n",
    "print(\"Name:\", name)  "
   ]
  },
  {
   "cell_type": "code",
   "execution_count": 3,
   "id": "b2cce627-9f9c-4491-979b-0c582d201401",
   "metadata": {},
   "outputs": [
    {
     "name": "stdin",
     "output_type": "stream",
     "text": [
      "Enter your name:  ali\n"
     ]
    },
    {
     "name": "stdout",
     "output_type": "stream",
     "text": [
      "Name: ali\n"
     ]
    }
   ],
   "source": [
    "name = input(\"Enter your name: \") \n",
    "print(\"Name:\", name)  "
   ]
  },
  {
   "cell_type": "code",
   "execution_count": 11,
   "id": "01d40cba-bede-4557-be3a-0f3e547014ec",
   "metadata": {},
   "outputs": [
    {
     "name": "stdin",
     "output_type": "stream",
     "text": [
      "Enter your age:  23\n"
     ]
    },
    {
     "name": "stdout",
     "output_type": "stream",
     "text": [
      "Age: 23\n"
     ]
    }
   ],
   "source": [
    "age = int(input(\"Enter your age: \")) \n",
    "print(\"Age:\", age) "
   ]
  },
  {
   "cell_type": "code",
   "execution_count": 4,
   "id": "2111c551-3af6-42ef-afb2-dcde6015e37f",
   "metadata": {},
   "outputs": [
    {
     "name": "stdin",
     "output_type": "stream",
     "text": [
      "Enter your age:  25\n"
     ]
    },
    {
     "name": "stdout",
     "output_type": "stream",
     "text": [
      "Age: 25\n"
     ]
    }
   ],
   "source": [
    "age = int(input(\"Enter your age: \")) \n",
    "print(\"Age:\", age) "
   ]
  },
  {
   "cell_type": "code",
   "execution_count": 12,
   "id": "83e45310-382e-4ab4-a86c-91a5b8ef66e7",
   "metadata": {},
   "outputs": [
    {
     "name": "stdin",
     "output_type": "stream",
     "text": [
      "Enter your height in meters:  1.92\n"
     ]
    },
    {
     "name": "stdout",
     "output_type": "stream",
     "text": [
      "Height: 1.92\n"
     ]
    }
   ],
   "source": [
    "height = float(input(\"Enter your height in meters: \")) \n",
    "print(\"Height:\", height) "
   ]
  },
  {
   "cell_type": "code",
   "execution_count": 15,
   "id": "3fa045fd-70f2-498a-86eb-fda0b477a12a",
   "metadata": {},
   "outputs": [
    {
     "name": "stdin",
     "output_type": "stream",
     "text": [
      "Enter your marks:  50\n"
     ]
    },
    {
     "name": "stdout",
     "output_type": "stream",
     "text": [
      "marks: 50.0\n"
     ]
    }
   ],
   "source": [
    "marks = float(input(\"Enter your marks: \")) \n",
    "print(\"marks:\", marks)"
   ]
  },
  {
   "cell_type": "code",
   "execution_count": 16,
   "id": "8d7a5b4b-67a9-4c50-93aa-4d2b39739d46",
   "metadata": {},
   "outputs": [
    {
     "name": "stdin",
     "output_type": "stream",
     "text": [
      "Enter the first number:  1\n"
     ]
    },
    {
     "name": "stdout",
     "output_type": "stream",
     "text": [
      "First number (int): 1\n"
     ]
    }
   ],
   "source": [
    "num1 = int(input(\"Enter the first number: \"))\n",
    "print(\"First number (int):\", num1)"
   ]
  },
  {
   "cell_type": "code",
   "execution_count": 17,
   "id": "d906bfc8-15d7-4294-af4e-9c16ccc4393e",
   "metadata": {},
   "outputs": [
    {
     "name": "stdin",
     "output_type": "stream",
     "text": [
      "Enter the second number:  25\n"
     ]
    },
    {
     "name": "stdout",
     "output_type": "stream",
     "text": [
      "Second number (int): 25\n",
      "Sum of numbers (int): 26\n"
     ]
    }
   ],
   "source": [
    "num2 = int(input(\"Enter the second number: \"))\n",
    "print(\"Second number (int):\", num2)\n",
    "\n",
    "total = num1 + num2\n",
    "print(\"Sum of numbers (int):\", total)"
   ]
  },
  {
   "cell_type": "code",
   "execution_count": 22,
   "id": "412304e6-e792-49dc-9a30-afe81c63ba49",
   "metadata": {},
   "outputs": [
    {
     "name": "stdin",
     "output_type": "stream",
     "text": [
      "Enter an integer:  15\n"
     ]
    },
    {
     "name": "stdout",
     "output_type": "stream",
     "text": [
      "Converted to float: 15.0\n"
     ]
    }
   ],
   "source": [
    "input_int = int(input(\"Enter an integer: \"))\n",
    "converted_float = float(input_int)\n",
    "print(\"Converted to float:\", converted_float)"
   ]
  },
  {
   "cell_type": "code",
   "execution_count": 1,
   "id": "f5755ea6-9a0f-4b20-86d7-7ee13a2c837d",
   "metadata": {},
   "outputs": [
    {
     "name": "stdin",
     "output_type": "stream",
     "text": [
      "Enter a floating-point number:  12.1\n"
     ]
    },
    {
     "name": "stdout",
     "output_type": "stream",
     "text": [
      "Converted to integer: 12\n"
     ]
    }
   ],
   "source": [
    "float_input = float(input(\"Enter a floating-point number: \"))\n",
    "converted_int = int(float_input)\n",
    "print(\"Converted to integer:\", converted_int)\n"
   ]
  },
  {
   "cell_type": "code",
   "execution_count": 5,
   "id": "a5cef525-5641-4e91-96c7-5847da2717a7",
   "metadata": {},
   "outputs": [
    {
     "name": "stdin",
     "output_type": "stream",
     "text": [
      "Are you a student? (yes/no):  yes\n"
     ]
    },
    {
     "name": "stdout",
     "output_type": "stream",
     "text": [
      "Is student: True\n"
     ]
    }
   ],
   "source": [
    "is_student = input(\"Are you a student? (yes/no): \").lower() == \"yes\"  # Type casting to boolean\n",
    "print(\"Is student:\", is_student) "
   ]
  },
  {
   "cell_type": "code",
   "execution_count": 6,
   "id": "d116006d-c4cc-4256-87a7-28615e79e96d",
   "metadata": {},
   "outputs": [
    {
     "name": "stdin",
     "output_type": "stream",
     "text": [
      "Are you a student? (yes/no):  no\n"
     ]
    },
    {
     "name": "stdout",
     "output_type": "stream",
     "text": [
      "Is student: False\n"
     ]
    }
   ],
   "source": [
    "is_student = input(\"Are you a student? (yes/no): \").lower() == \"yes\"  # Type casting to boolean\n",
    "print(\"Is student:\", is_student) "
   ]
  },
  {
   "cell_type": "code",
   "execution_count": 7,
   "id": "9e30fe89-c765-401f-a47b-f5562c5834ee",
   "metadata": {},
   "outputs": [
    {
     "name": "stdin",
     "output_type": "stream",
     "text": [
      "Enter your phone number:  03037198931\n"
     ]
    },
    {
     "name": "stdout",
     "output_type": "stream",
     "text": [
      "Phone number: 03037198931\n"
     ]
    }
   ],
   "source": [
    "phone_number = str(input(\"Enter your phone number: \"))  # Type casting to string\n",
    "print(\"Phone number:\", phone_number)"
   ]
  },
  {
   "cell_type": "code",
   "execution_count": 8,
   "id": "ee87353c-1b9c-4c88-b043-85752b2bcea6",
   "metadata": {},
   "outputs": [
    {
     "name": "stdin",
     "output_type": "stream",
     "text": [
      "Enter your phone number:  03177106552\n"
     ]
    },
    {
     "name": "stdout",
     "output_type": "stream",
     "text": [
      "Phone number: 03177106552\n"
     ]
    }
   ],
   "source": [
    "phone_number = str(input(\"Enter your phone number: \"))  # Type casting to string\n",
    "print(\"Phone number:\", phone_number)"
   ]
  },
  {
   "cell_type": "code",
   "execution_count": 9,
   "id": "8962e6c1-e854-49b7-b8d7-232fb1933557",
   "metadata": {},
   "outputs": [
    {
     "name": "stdin",
     "output_type": "stream",
     "text": [
      "Enter the price of the item:  10.25\n"
     ]
    },
    {
     "name": "stdout",
     "output_type": "stream",
     "text": [
      "Price (float): 10.25\n"
     ]
    },
    {
     "name": "stdin",
     "output_type": "stream",
     "text": [
      "Enter the quantity:  5\n"
     ]
    },
    {
     "name": "stdout",
     "output_type": "stream",
     "text": [
      "Quantity (int): 5\n",
      "Total price (float): 51.25\n"
     ]
    }
   ],
   "source": [
    "# Float inputs\n",
    "price = float(input(\"Enter the price of the item: \"))\n",
    "print(\"Price (float):\", price)\n",
    "\n",
    "quantity = int(input(\"Enter the quantity: \"))\n",
    "print(\"Quantity (int):\", quantity)\n",
    "\n",
    "total_price = price * quantity\n",
    "print(\"Total price (float):\", total_price)"
   ]
  },
  {
   "cell_type": "code",
   "execution_count": 10,
   "id": "852cb201-8f17-43e2-9f60-60eb9f1ac57c",
   "metadata": {},
   "outputs": [
    {
     "name": "stdin",
     "output_type": "stream",
     "text": [
      "Enter a sentence:  i am a fraudia\n"
     ]
    },
    {
     "name": "stdout",
     "output_type": "stream",
     "text": [
      "Words (list): ['i', 'am', 'a', 'fraudia']\n"
     ]
    }
   ],
   "source": [
    "sentence = input(\"Enter a sentence: \")\n",
    "words = list(sentence.split())  # String to list\n",
    "print(\"Words (list):\", words)"
   ]
  },
  {
   "cell_type": "code",
   "execution_count": 11,
   "id": "114a8c6f-7155-4ab0-9cba-8cdd58541974",
   "metadata": {},
   "outputs": [
    {
     "name": "stdin",
     "output_type": "stream",
     "text": [
      "Enter a sentence:  he is a liar\n"
     ]
    },
    {
     "name": "stdout",
     "output_type": "stream",
     "text": [
      "Words (list): ['he', 'is', 'a', 'liar']\n"
     ]
    }
   ],
   "source": [
    "sentence = input(\"Enter a sentence: \")\n",
    "words = list(sentence.split())  # String to list\n",
    "print(\"Words (list):\", words)"
   ]
  },
  {
   "cell_type": "code",
   "execution_count": 12,
   "id": "fcd2bf30-b96f-4f4b-9963-fc1b029e9b3a",
   "metadata": {},
   "outputs": [
    {
     "name": "stdin",
     "output_type": "stream",
     "text": [
      "Enter text:  ali\n"
     ]
    },
    {
     "name": "stdout",
     "output_type": "stream",
     "text": [
      "Uppercase text: ALI\n"
     ]
    }
   ],
   "source": [
    "# String to uppercase\n",
    "text = input(\"Enter text: \")\n",
    "uppercase_text = text.upper()  # String to uppercase\n",
    "print(\"Uppercase text:\", uppercase_text)\n"
   ]
  },
  {
   "cell_type": "code",
   "execution_count": 13,
   "id": "1bd06950-4c84-4a91-a0a4-a49ce4b7eca8",
   "metadata": {},
   "outputs": [
    {
     "name": "stdin",
     "output_type": "stream",
     "text": [
      "Enter 1 for True, 0 for False:  1\n"
     ]
    },
    {
     "name": "stdout",
     "output_type": "stream",
     "text": [
      "Boolean value: True\n"
     ]
    }
   ],
   "source": [
    "truthy_value = bool(int(input(\"Enter 1 for True, 0 for False: \")))  # Int to bool\n",
    "print(\"Boolean value:\", truthy_value)\n"
   ]
  },
  {
   "cell_type": "code",
   "execution_count": 14,
   "id": "2663c2b3-04c1-4eb3-91c8-8e61f81cd4b8",
   "metadata": {},
   "outputs": [
    {
     "name": "stdin",
     "output_type": "stream",
     "text": [
      "Enter 1 for True, 0 for False:  0\n"
     ]
    },
    {
     "name": "stdout",
     "output_type": "stream",
     "text": [
      "Boolean value: False\n"
     ]
    }
   ],
   "source": [
    "truthy_value = bool(int(input(\"Enter 1 for True, 0 for False: \")))  # Int to bool\n",
    "print(\"Boolean value:\", truthy_value)\n"
   ]
  },
  {
   "cell_type": "code",
   "execution_count": 15,
   "id": "4fc4c350-ebf7-41ba-8dba-4d34d1864f1d",
   "metadata": {},
   "outputs": [
    {
     "name": "stdin",
     "output_type": "stream",
     "text": [
      "Enter the price:  25\n",
      "Enter the quantity:  10\n"
     ]
    },
    {
     "name": "stdout",
     "output_type": "stream",
     "text": [
      "The total cost is: 250.0\n"
     ]
    }
   ],
   "source": [
    "price = float(input(\"Enter the price: \"))\n",
    "quantity = int(input(\"Enter the quantity: \"))\n",
    "total_cost = price * quantity\n",
    "print(\"The total cost is:\", total_cost)"
   ]
  },
  {
   "cell_type": "code",
   "execution_count": 16,
   "id": "b0791377-3bc0-4461-8a56-72e2c25cb0fa",
   "metadata": {},
   "outputs": [
    {
     "name": "stdin",
     "output_type": "stream",
     "text": [
      "Enter your name:  mubashir \n"
     ]
    },
    {
     "name": "stdout",
     "output_type": "stream",
     "text": [
      "Hello, mubashir \n"
     ]
    }
   ],
   "source": [
    "name = input(\"Enter your name: \")\n",
    "print(\"Hello,\", name)"
   ]
  },
  {
   "cell_type": "code",
   "execution_count": 17,
   "id": "e91a16d6-387f-4d14-bfb6-d515e2333706",
   "metadata": {},
   "outputs": [
    {
     "name": "stdin",
     "output_type": "stream",
     "text": [
      "Enter your age:  23\n"
     ]
    },
    {
     "name": "stdout",
     "output_type": "stream",
     "text": [
      "You are 23 years old.\n"
     ]
    }
   ],
   "source": [
    "age = int(input(\"Enter your age: \"))\n",
    "print(\"You are\", age, \"years old.\")"
   ]
  },
  {
   "cell_type": "code",
   "execution_count": 18,
   "id": "990e18ab-fd04-4980-bdbd-559ecf6f1397",
   "metadata": {},
   "outputs": [
    {
     "name": "stdin",
     "output_type": "stream",
     "text": [
      "Enter the radius of the circle:  5\n"
     ]
    },
    {
     "name": "stdout",
     "output_type": "stream",
     "text": [
      "The area of the circle is: 78.53975\n"
     ]
    }
   ],
   "source": [
    "# Calculate the area of a circle\n",
    "radius = float(input(\"Enter the radius of the circle: \"))\n",
    "pi = 3.14159\n",
    "area = pi * radius * radius\n",
    "print(\"The area of the circle is:\", area)"
   ]
  },
  {
   "cell_type": "code",
   "execution_count": 20,
   "id": "0519daf7-650a-45b6-8b8a-0fbc7b9cae76",
   "metadata": {},
   "outputs": [
    {
     "name": "stdin",
     "output_type": "stream",
     "text": [
      "Enter the current year:  2024\n",
      "Enter your birth year:  2000\n"
     ]
    },
    {
     "name": "stdout",
     "output_type": "stream",
     "text": [
      "Your age is: 24\n"
     ]
    }
   ],
   "source": [
    "# Calculate the age of a person\n",
    "current_year = int(input(\"Enter the current year: \"))\n",
    "birth_year = int(input(\"Enter your birth year: \"))\n",
    "age = current_year - birth_year\n",
    "print(\"Your age is:\", age)"
   ]
  },
  {
   "cell_type": "code",
   "execution_count": null,
   "id": "2a34359d-e0d5-49e0-8149-03e7d1e2e1cb",
   "metadata": {},
   "outputs": [],
   "source": [
    "type casting"
   ]
  },
  {
   "cell_type": "code",
   "execution_count": null,
   "id": "93791489-cae0-4c5e-bbc6-b7e2e57c21b0",
   "metadata": {},
   "outputs": [],
   "source": []
  },
  {
   "cell_type": "code",
   "execution_count": null,
   "id": "6fa0f895-720f-4f21-8e03-98f5cd27a384",
   "metadata": {},
   "outputs": [],
   "source": []
  },
  {
   "cell_type": "code",
   "execution_count": null,
   "id": "bb6ae254-369f-4249-a9cf-72064ee45e0d",
   "metadata": {},
   "outputs": [],
   "source": []
  }
 ],
 "metadata": {
  "kernelspec": {
   "display_name": "Python 3 (ipykernel)",
   "language": "python",
   "name": "python3"
  },
  "language_info": {
   "codemirror_mode": {
    "name": "ipython",
    "version": 3
   },
   "file_extension": ".py",
   "mimetype": "text/x-python",
   "name": "python",
   "nbconvert_exporter": "python",
   "pygments_lexer": "ipython3",
   "version": "3.13.0"
  }
 },
 "nbformat": 4,
 "nbformat_minor": 5
}
